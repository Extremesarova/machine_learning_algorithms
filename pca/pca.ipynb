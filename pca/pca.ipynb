{
 "cells": [
  {
   "cell_type": "markdown",
   "id": "9584db1b-d8c1-41a6-9c6e-e85909984f24",
   "metadata": {
    "tags": []
   },
   "source": [
    "### 1. Import packages"
   ]
  },
  {
   "cell_type": "markdown",
   "id": "57a4dbd1-865e-4c42-bff3-f33e686db058",
   "metadata": {
    "pycharm": {
     "name": "#%% md\n"
    }
   },
   "source": [
    "Importing required modules and setting random seed"
   ]
  },
  {
   "cell_type": "code",
   "execution_count": 1,
   "id": "c6838c73-d278-496d-b787-755e14f65c0d",
   "metadata": {
    "tags": []
   },
   "outputs": [],
   "source": [
    "import matplotlib.pyplot as plt\n",
    "import numpy as np\n",
    "import pandas as pd\n",
    "from sklearn import model_selection as ms\n",
    "from sklearn.decomposition import PCA\n",
    "from sklearn.preprocessing import StandardScaler\n",
    "\n",
    "SEED = 42"
   ]
  },
  {
   "cell_type": "markdown",
   "id": "86704d06-9647-4489-8444-9d842a70d507",
   "metadata": {},
   "source": [
    "### 2. Data preparation"
   ]
  },
  {
   "cell_type": "markdown",
   "id": "427e41ce-877c-4b3c-a147-ec3d066d7453",
   "metadata": {},
   "source": [
    "#### 2.1 Loading Wine dataset"
   ]
  },
  {
   "cell_type": "code",
   "execution_count": 2,
   "id": "4094270f-eb16-412d-b1e1-3cf6d6bbeeab",
   "metadata": {},
   "outputs": [
    {
     "data": {
      "text/html": [
       "<div>\n",
       "<style scoped>\n",
       "    .dataframe tbody tr th:only-of-type {\n",
       "        vertical-align: middle;\n",
       "    }\n",
       "\n",
       "    .dataframe tbody tr th {\n",
       "        vertical-align: top;\n",
       "    }\n",
       "\n",
       "    .dataframe thead th {\n",
       "        text-align: right;\n",
       "    }\n",
       "</style>\n",
       "<table border=\"1\" class=\"dataframe\">\n",
       "  <thead>\n",
       "    <tr style=\"text-align: right;\">\n",
       "      <th></th>\n",
       "      <th>0</th>\n",
       "      <th>1</th>\n",
       "      <th>2</th>\n",
       "      <th>3</th>\n",
       "      <th>4</th>\n",
       "      <th>5</th>\n",
       "      <th>6</th>\n",
       "      <th>7</th>\n",
       "      <th>8</th>\n",
       "      <th>9</th>\n",
       "      <th>10</th>\n",
       "      <th>11</th>\n",
       "      <th>12</th>\n",
       "      <th>13</th>\n",
       "    </tr>\n",
       "  </thead>\n",
       "  <tbody>\n",
       "    <tr>\n",
       "      <th>0</th>\n",
       "      <td>1</td>\n",
       "      <td>14.23</td>\n",
       "      <td>1.71</td>\n",
       "      <td>2.43</td>\n",
       "      <td>15.6</td>\n",
       "      <td>127</td>\n",
       "      <td>2.80</td>\n",
       "      <td>3.06</td>\n",
       "      <td>0.28</td>\n",
       "      <td>2.29</td>\n",
       "      <td>5.64</td>\n",
       "      <td>1.04</td>\n",
       "      <td>3.92</td>\n",
       "      <td>1065</td>\n",
       "    </tr>\n",
       "    <tr>\n",
       "      <th>1</th>\n",
       "      <td>1</td>\n",
       "      <td>13.20</td>\n",
       "      <td>1.78</td>\n",
       "      <td>2.14</td>\n",
       "      <td>11.2</td>\n",
       "      <td>100</td>\n",
       "      <td>2.65</td>\n",
       "      <td>2.76</td>\n",
       "      <td>0.26</td>\n",
       "      <td>1.28</td>\n",
       "      <td>4.38</td>\n",
       "      <td>1.05</td>\n",
       "      <td>3.40</td>\n",
       "      <td>1050</td>\n",
       "    </tr>\n",
       "    <tr>\n",
       "      <th>2</th>\n",
       "      <td>1</td>\n",
       "      <td>13.16</td>\n",
       "      <td>2.36</td>\n",
       "      <td>2.67</td>\n",
       "      <td>18.6</td>\n",
       "      <td>101</td>\n",
       "      <td>2.80</td>\n",
       "      <td>3.24</td>\n",
       "      <td>0.30</td>\n",
       "      <td>2.81</td>\n",
       "      <td>5.68</td>\n",
       "      <td>1.03</td>\n",
       "      <td>3.17</td>\n",
       "      <td>1185</td>\n",
       "    </tr>\n",
       "    <tr>\n",
       "      <th>3</th>\n",
       "      <td>1</td>\n",
       "      <td>14.37</td>\n",
       "      <td>1.95</td>\n",
       "      <td>2.50</td>\n",
       "      <td>16.8</td>\n",
       "      <td>113</td>\n",
       "      <td>3.85</td>\n",
       "      <td>3.49</td>\n",
       "      <td>0.24</td>\n",
       "      <td>2.18</td>\n",
       "      <td>7.80</td>\n",
       "      <td>0.86</td>\n",
       "      <td>3.45</td>\n",
       "      <td>1480</td>\n",
       "    </tr>\n",
       "    <tr>\n",
       "      <th>4</th>\n",
       "      <td>1</td>\n",
       "      <td>13.24</td>\n",
       "      <td>2.59</td>\n",
       "      <td>2.87</td>\n",
       "      <td>21.0</td>\n",
       "      <td>118</td>\n",
       "      <td>2.80</td>\n",
       "      <td>2.69</td>\n",
       "      <td>0.39</td>\n",
       "      <td>1.82</td>\n",
       "      <td>4.32</td>\n",
       "      <td>1.04</td>\n",
       "      <td>2.93</td>\n",
       "      <td>735</td>\n",
       "    </tr>\n",
       "  </tbody>\n",
       "</table>\n",
       "</div>"
      ],
      "text/plain": [
       "   0      1     2     3     4    5     6     7     8     9     10    11    12  \\\n",
       "0   1  14.23  1.71  2.43  15.6  127  2.80  3.06  0.28  2.29  5.64  1.04  3.92   \n",
       "1   1  13.20  1.78  2.14  11.2  100  2.65  2.76  0.26  1.28  4.38  1.05  3.40   \n",
       "2   1  13.16  2.36  2.67  18.6  101  2.80  3.24  0.30  2.81  5.68  1.03  3.17   \n",
       "3   1  14.37  1.95  2.50  16.8  113  3.85  3.49  0.24  2.18  7.80  0.86  3.45   \n",
       "4   1  13.24  2.59  2.87  21.0  118  2.80  2.69  0.39  1.82  4.32  1.04  2.93   \n",
       "\n",
       "     13  \n",
       "0  1065  \n",
       "1  1050  \n",
       "2  1185  \n",
       "3  1480  \n",
       "4   735  "
      ]
     },
     "execution_count": 2,
     "metadata": {},
     "output_type": "execute_result"
    }
   ],
   "source": [
    "df = pd.read_csv(\n",
    "    \"https://archive.ics.uci.edu/ml/\" \"machine-learning-databases/wine/wine.data\",\n",
    "    header=None,\n",
    ")\n",
    "df.head()"
   ]
  },
  {
   "cell_type": "markdown",
   "id": "8f10e82a-8ea0-4ba2-9164-885720a27809",
   "metadata": {},
   "source": [
    "#### 2.2 Splitting the data"
   ]
  },
  {
   "cell_type": "code",
   "execution_count": 3,
   "id": "7f8a6f46-9d7e-4097-8b06-cdcf516eef88",
   "metadata": {},
   "outputs": [
    {
     "data": {
      "text/plain": [
       "(array([[1.423e+01, 1.710e+00, 2.430e+00, ..., 1.040e+00, 3.920e+00,\n",
       "         1.065e+03],\n",
       "        [1.320e+01, 1.780e+00, 2.140e+00, ..., 1.050e+00, 3.400e+00,\n",
       "         1.050e+03],\n",
       "        [1.316e+01, 2.360e+00, 2.670e+00, ..., 1.030e+00, 3.170e+00,\n",
       "         1.185e+03],\n",
       "        ...,\n",
       "        [1.327e+01, 4.280e+00, 2.260e+00, ..., 5.900e-01, 1.560e+00,\n",
       "         8.350e+02],\n",
       "        [1.317e+01, 2.590e+00, 2.370e+00, ..., 6.000e-01, 1.620e+00,\n",
       "         8.400e+02],\n",
       "        [1.413e+01, 4.100e+00, 2.740e+00, ..., 6.100e-01, 1.600e+00,\n",
       "         5.600e+02]]),\n",
       " array([1, 1, 1, 1, 1, 1, 1, 1, 1, 1, 1, 1, 1, 1, 1, 1, 1, 1, 1, 1, 1, 1,\n",
       "        1, 1, 1, 1, 1, 1, 1, 1, 1, 1, 1, 1, 1, 1, 1, 1, 1, 1, 1, 1, 1, 1,\n",
       "        1, 1, 1, 1, 1, 1, 1, 1, 1, 1, 1, 1, 1, 1, 1, 2, 2, 2, 2, 2, 2, 2,\n",
       "        2, 2, 2, 2, 2, 2, 2, 2, 2, 2, 2, 2, 2, 2, 2, 2, 2, 2, 2, 2, 2, 2,\n",
       "        2, 2, 2, 2, 2, 2, 2, 2, 2, 2, 2, 2, 2, 2, 2, 2, 2, 2, 2, 2, 2, 2,\n",
       "        2, 2, 2, 2, 2, 2, 2, 2, 2, 2, 2, 2, 2, 2, 2, 2, 2, 2, 2, 2, 3, 3,\n",
       "        3, 3, 3, 3, 3, 3, 3, 3, 3, 3, 3, 3, 3, 3, 3, 3, 3, 3, 3, 3, 3, 3,\n",
       "        3, 3, 3, 3, 3, 3, 3, 3, 3, 3, 3, 3, 3, 3, 3, 3, 3, 3, 3, 3, 3, 3,\n",
       "        3, 3], dtype=int64))"
      ]
     },
     "execution_count": 3,
     "metadata": {},
     "output_type": "execute_result"
    }
   ],
   "source": [
    "X, y = df.iloc[:, 1:].values, df.iloc[:, 0].values\n",
    "X, y"
   ]
  },
  {
   "cell_type": "code",
   "execution_count": 4,
   "id": "a51dc71a-7d76-4bf3-b5d4-662624f6e2a6",
   "metadata": {},
   "outputs": [
    {
     "data": {
      "text/plain": [
       "((142, 13), (142,), (36, 13), (36,))"
      ]
     },
     "execution_count": 4,
     "metadata": {},
     "output_type": "execute_result"
    }
   ],
   "source": [
    "X_train, X_test, y_train, y_test = ms.train_test_split(\n",
    "    X, y, test_size=0.2, random_state=SEED, stratify=y\n",
    ")\n",
    "X_train.shape, y_train.shape, X_test.shape, y_test.shape"
   ]
  },
  {
   "cell_type": "markdown",
   "id": "24c5452c-680f-4aa3-a318-4390364c025a",
   "metadata": {
    "tags": []
   },
   "source": [
    "#### 2.3 Scaling the data"
   ]
  },
  {
   "cell_type": "code",
   "execution_count": 5,
   "id": "fd094c6a-8131-469f-a555-0846a099d93d",
   "metadata": {
    "collapsed": false,
    "jupyter": {
     "outputs_hidden": false
    },
    "pycharm": {
     "name": "#%%\n"
    }
   },
   "outputs": [],
   "source": [
    "scaler = StandardScaler()\n",
    "\n",
    "X_train_scaled = scaler.fit_transform(X_train)\n",
    "X_test_scaled = scaler.transform(X_test)"
   ]
  },
  {
   "cell_type": "markdown",
   "id": "49ff5618-3173-481e-a0fa-d7762bce6629",
   "metadata": {},
   "source": [
    "### 3. PCA Implementation"
   ]
  },
  {
   "cell_type": "markdown",
   "id": "31bed7cd-ca42-4e77-9b24-8441b2640ac1",
   "metadata": {},
   "source": [
    "#### 3.1 Computing covariance matrix"
   ]
  },
  {
   "cell_type": "code",
   "execution_count": 6,
   "id": "64fde5a7-c89b-4ebb-88b0-d2a37ccb80e8",
   "metadata": {},
   "outputs": [
    {
     "data": {
      "text/plain": [
       "(13, 13)"
      ]
     },
     "execution_count": 6,
     "metadata": {},
     "output_type": "execute_result"
    }
   ],
   "source": [
    "cov_matrix = np.cov(X_train_scaled.T)\n",
    "cov_matrix.shape"
   ]
  },
  {
   "cell_type": "markdown",
   "id": "45a69898-7716-4d3f-85b7-6230fb4e9a71",
   "metadata": {},
   "source": [
    "At the intersection of $i^{th}$ row and $j^{th}$ column will lay the covariance between $i^{th}$ and $j^{th}$ features:  \n",
    "\n",
    "$\\normalsize \\sigma_{ij} = \\frac {1}{N-1} \\sum_{k = 1}^{N} {(x^{(k)}_i - \\mu_i)(x^{(k)}_j - \\mu_j)}$  \n",
    "\n",
    "Here, $\\mu_i$ and $\\mu_j$ are the sample means of features i and j, respectively.   \n",
    "Note that the sample means are zero if we standardized the dataset.  \n",
    "A positive covariance between two features indicates that the features increase or decrease together, whereas a negative covariance indicates that the feature  vary in opposite directions.  \n",
    "\n",
    "For example, the covariance matrix of three features can then be written as follows:  \n",
    "$\\sum = \\begin{bmatrix}\n",
    "\\sigma_{1}^2 & \\sigma_{12} & \\sigma_{13}\\\\\n",
    "\\sigma_{21} & \\sigma_{2}^2 & \\sigma_{23}\\\\\n",
    "\\sigma_{31} & \\sigma_{32} & \\sigma_{3}^2\n",
    "\\end{bmatrix}$"
   ]
  },
  {
   "cell_type": "markdown",
   "id": "148eb493-fc6f-45f2-ba28-4a5179d402bf",
   "metadata": {},
   "source": [
    "#### 3.2 Decomposing the covariance matrix into its eigenvectors and eigenvalues"
   ]
  },
  {
   "cell_type": "markdown",
   "id": "e31ec1b5-3e5e-4424-b8ff-e118eaedeb46",
   "metadata": {},
   "source": [
    "The eigenvectors of the covariance matrix represent the principal components (the directions of maximum variance), whereas the corresponding eigenvalues will define their magnitude."
   ]
  },
  {
   "cell_type": "code",
   "execution_count": 7,
   "id": "b123dc81-c269-4b67-9d5a-a5fa87057b85",
   "metadata": {},
   "outputs": [
    {
     "data": {
      "text/plain": [
       "((13,), (13, 13))"
      ]
     },
     "execution_count": 7,
     "metadata": {},
     "output_type": "execute_result"
    }
   ],
   "source": [
    "eigen_values, eigen_vectors = np.linalg.eig(cov_matrix)\n",
    "eigen_values.shape, eigen_vectors.shape"
   ]
  },
  {
   "cell_type": "markdown",
   "id": "8c317280-2285-4b96-90d1-e1350afc9a16",
   "metadata": {},
   "source": [
    "Eigenvector, $v$, satisfies the following condition:  \n",
    "\n",
    "$\\normalsize \\sum v = \\lambda v$  \n",
    "\n",
    "Here, $\\lambda$ is a scalar: the eigenvalue."
   ]
  },
  {
   "cell_type": "markdown",
   "id": "c7301ae9-6a23-4c48-838f-ff2cf64cabfa",
   "metadata": {},
   "source": [
    "Since we want to reduce the dimensionality of our dataset by compressing it onto a new feature subspace, we only select the subset of the eigenvectors (principal components) that contains most of the information (variance).  \n",
    "\n",
    "The eigenvalues define the magnitude of the eigenvectors, so we have to sort the eigenvalues by decreasing magnitude; we are interested in the top-$k$ eigenvectors based on the values of their corresponding eigenvalues. \n",
    "\n",
    "But before we collect those k most informative eigenvectors, let's plot the variance explained ratios of the eigenvalues. \n",
    "The variance explained ratio of an eigenvalue, $\\lambda_i$, is simply the fraction of an eigenvalue, $\\lambda_i$, and the total sum of the eigenvalues:  \n",
    "\n",
    "$\\normalsize \\text{Explained variance ratio} = \\frac {\\lambda_i} {\\sum_{i = j}^{d} {\\lambda_j}}$"
   ]
  },
  {
   "cell_type": "code",
   "execution_count": 8,
   "id": "41749415-f27c-452c-81b2-f3b6372f5939",
   "metadata": {},
   "outputs": [
    {
     "data": {
      "text/plain": [
       "array([0.35792104, 0.19270671, 0.11019835, 0.07272276, 0.06721919,\n",
       "       0.05131943, 0.04377423, 0.02500853, 0.0227943 , 0.01877102,\n",
       "       0.01781765, 0.01256721, 0.00717958])"
      ]
     },
     "execution_count": 8,
     "metadata": {},
     "output_type": "execute_result"
    }
   ],
   "source": [
    "var_explained = np.array(\n",
    "    [var / np.sum(eigen_values) for var in sorted(eigen_values, reverse=True)]\n",
    ")\n",
    "var_explained"
   ]
  },
  {
   "cell_type": "code",
   "execution_count": 9,
   "id": "629c9cf8-856c-41b5-a78a-36ba86931dcd",
   "metadata": {},
   "outputs": [
    {
     "data": {
      "text/plain": [
       "array([0.35792104, 0.55062776, 0.66082611, 0.73354887, 0.80076806,\n",
       "       0.85208748, 0.89586171, 0.92087024, 0.94366454, 0.96243556,\n",
       "       0.98025321, 0.99282042, 1.        ])"
      ]
     },
     "execution_count": 9,
     "metadata": {},
     "output_type": "execute_result"
    }
   ],
   "source": [
    "cum_var_explained = np.cumsum(var_explained)\n",
    "cum_var_explained"
   ]
  },
  {
   "cell_type": "code",
   "execution_count": 10,
   "id": "62f6244e-7fb7-4d83-a7bb-636f7117b159",
   "metadata": {},
   "outputs": [
    {
     "data": {
      "image/png": "[encoded data removed]",
      "text/plain": [
       "<Figure size 432x288 with 1 Axes>"
      ]
     },
     "metadata": {
      "needs_background": "light"
     },
     "output_type": "display_data"
    }
   ],
   "source": [
    "plt.bar(\n",
    "    range(1, len(var_explained) + 1),\n",
    "    var_explained,\n",
    "    alpha=0.5,\n",
    "    align=\"center\",\n",
    "    label=\"Individual explained variance\",\n",
    ")\n",
    "plt.step(\n",
    "    range(1, len(cum_var_explained) + 1),\n",
    "    cum_var_explained,\n",
    "    where=\"mid\",\n",
    "    label=\"Cumulative explained variance\",\n",
    ")\n",
    "plt.ylabel(\"Explained variance ratio\")\n",
    "plt.xlabel(\"Principal component index\")\n",
    "plt.legend(loc=\"best\")\n",
    "plt.tight_layout()\n",
    "plt.show()"
   ]
  },
  {
   "cell_type": "markdown",
   "id": "b6fa6559-11ab-44e1-a750-a39ca98bb690",
   "metadata": {},
   "source": [
    "The resulting plot indicates that the first principal component alone accounts for approximately 40 percent of the variance.  \n",
    "\n",
    "Also, we can see that the first two principal components combined explain almost 60 percent of the variance in the dataset."
   ]
  },
  {
   "cell_type": "markdown",
   "id": "7eee8404-1c61-473f-a18e-a4b3f86f878f",
   "metadata": {},
   "source": [
    "#### 3.3 Sort the eigenvalues by decreasing order to rank the corresponding eigenvectors."
   ]
  },
  {
   "cell_type": "code",
   "execution_count": 11,
   "id": "73919d61-c61c-4a8d-a3e6-59a59f2eeaf7",
   "metadata": {},
   "outputs": [
    {
     "data": {
      "text/plain": [
       "[(4.685973384295744,\n",
       "  array([ 0.14437334, -0.2337447 ,  0.00706511, -0.2235901 ,  0.15184439,\n",
       "          0.39439159,  0.429506  , -0.29140435,  0.31334896, -0.09640988,\n",
       "          0.29685959,  0.38316219,  0.28993558])),\n",
       " (2.522954566300952,\n",
       "  array([-0.4869468 , -0.22289583, -0.31157842,  0.03897025, -0.2964377 ,\n",
       "         -0.07626637,  0.00253396, -0.0208294 , -0.01090402, -0.52442852,\n",
       "          0.29752402,  0.17026267, -0.35751114])),\n",
       " (1.442738686113919,\n",
       "  array([-0.15569954,  0.06354546,  0.63847042,  0.64069029,  0.10018241,\n",
       "          0.14420429,  0.10002901,  0.18497553,  0.15636423, -0.13309435,\n",
       "          0.11983753,  0.11586375, -0.09267495])),\n",
       " (0.9521007782561318,\n",
       "  array([ 0.20988404, -0.50184037,  0.19895738, -0.08732155, -0.26768798,\n",
       "         -0.04492907, -0.05077208,  0.45843691, -0.37659306,  0.04511203,\n",
       "          0.38035231, -0.06777416,  0.27813578])),\n",
       " (0.8800469857887143,\n",
       "  array([-0.19581265, -0.3618969 ,  0.01492415,  0.02967618,  0.75640337,\n",
       "         -0.25806712, -0.22045929, -0.20620121, -0.08423341, -0.07304693,\n",
       "          0.18090159, -0.22089317,  0.07594999])),\n",
       " (0.6718841128984011,\n",
       "  array([ 0.19483092,  0.41129986,  0.18725473, -0.04004287,  0.03666148,\n",
       "         -0.10759454, -0.02123919, -0.3273895 , -0.62216903, -0.3989208 ,\n",
       "          0.1097992 ,  0.24385652,  0.13377576])),\n",
       " (0.5731008530293205,\n",
       "  array([ 0.0020016 ,  0.46190451, -0.10813571, -0.29400616,  0.29857237,\n",
       "         -0.02188877, -0.02723337,  0.60844127,  0.24063943, -0.30405422,\n",
       "          0.24868772, -0.04550921,  0.11690713])),\n",
       " (0.32741662812729627,\n",
       "  array([-0.61189221, -0.05954257,  0.27933872, -0.39643896,  0.05821211,\n",
       "          0.29483946,  0.08383398,  0.13789121, -0.25972261, -0.00234193,\n",
       "         -0.41823765,  0.05928187,  0.15680933])),\n",
       " (0.2984275285494639,\n",
       "  array([-0.25747073,  0.08667394,  0.20104267, -0.04624746, -0.32543928,\n",
       "         -0.50644385, -0.11812486, -0.20613088,  0.36752688, -0.04210112,\n",
       "          0.03149228, -0.02279598,  0.57134929])),\n",
       " (0.24575395242989187,\n",
       "  array([-0.0418249 , -0.06384797, -0.4805531 ,  0.47357644,  0.09575521,\n",
       "          0.11721991, -0.16424313,  0.19664187, -0.10784022, -0.06335603,\n",
       "         -0.27186504,  0.3511513 ,  0.48739456])),\n",
       " (0.2332722748989539,\n",
       "  array([ 0.32196602, -0.30110848,  0.20266213, -0.18812258,  0.08927909,\n",
       "         -0.35845194, -0.09236291,  0.16006846,  0.18425567, -0.27929661,\n",
       "         -0.45398895,  0.43803048, -0.22060085])),\n",
       " (0.1645323924294449,\n",
       "  array([ 0.21331051, -0.14272381, -0.00647968,  0.08772731, -0.09085145,\n",
       "          0.20471041,  0.15392628, -0.06814538,  0.07403245, -0.5889113 ,\n",
       "         -0.30649849, -0.61175207,  0.16557116])),\n",
       " (0.0939964384420378,\n",
       "  array([-0.07631336,  0.01164906, -0.13478347,  0.12162423,  0.10022894,\n",
       "         -0.45784336,  0.8203401 ,  0.14116669, -0.17243032,  0.09161299,\n",
       "         -0.08846299, -0.04895117,  0.01349712]))]"
      ]
     },
     "execution_count": 11,
     "metadata": {},
     "output_type": "execute_result"
    }
   ],
   "source": [
    "eigen_pairs = [\n",
    "    (np.abs(eigen_values[i]), eigen_vectors[:, i]) for i in range(len(eigen_values))\n",
    "]\n",
    "eigen_pairs.sort(key=lambda item: item[0], reverse=True)\n",
    "eigen_pairs"
   ]
  },
  {
   "cell_type": "markdown",
   "id": "1b8c4280-3bf8-4286-a2fb-adcf6a653123",
   "metadata": {},
   "source": [
    "#### 3.4 Select $k$ eigenvectors, which correspond to the $k$ largest eigenvalues"
   ]
  },
  {
   "cell_type": "markdown",
   "id": "db83593d-b0e5-4a67-bb22-8690281f1043",
   "metadata": {},
   "source": [
    "Where $k$ is the dimensionality of the new feature subspace $k \\leq d$ ($d$ - original dimensionality)"
   ]
  },
  {
   "cell_type": "code",
   "execution_count": 12,
   "id": "0377d452-fa4c-4be6-8959-5de7496d04d5",
   "metadata": {},
   "outputs": [
    {
     "name": "stdout",
     "output_type": "stream",
     "text": [
      "2 principal components account for approximately 0.6 percent of variance\n"
     ]
    }
   ],
   "source": [
    "k = 2\n",
    "print(\n",
    "    f\"{k} principal components account for approximately {cum_var_explained[k - 1].round(1)} percent of variance\"\n",
    ")"
   ]
  },
  {
   "cell_type": "code",
   "execution_count": 13,
   "id": "d3224c6d-380b-4d75-91d8-cd7a67398935",
   "metadata": {},
   "outputs": [
    {
     "data": {
      "text/plain": [
       "[(4.685973384295744,\n",
       "  array([ 0.14437334, -0.2337447 ,  0.00706511, -0.2235901 ,  0.15184439,\n",
       "          0.39439159,  0.429506  , -0.29140435,  0.31334896, -0.09640988,\n",
       "          0.29685959,  0.38316219,  0.28993558])),\n",
       " (2.522954566300952,\n",
       "  array([-0.4869468 , -0.22289583, -0.31157842,  0.03897025, -0.2964377 ,\n",
       "         -0.07626637,  0.00253396, -0.0208294 , -0.01090402, -0.52442852,\n",
       "          0.29752402,  0.17026267, -0.35751114]))]"
      ]
     },
     "execution_count": 13,
     "metadata": {},
     "output_type": "execute_result"
    }
   ],
   "source": [
    "eigen_pairs[:k]"
   ]
  },
  {
   "cell_type": "markdown",
   "id": "624862ff-7d4f-4e81-bcf5-36d2758cd17e",
   "metadata": {},
   "source": [
    "#### 3.5 Construct a projection matrix, $\\textbf{W}$, from the \"top\" $k$ eigenvectors"
   ]
  },
  {
   "cell_type": "code",
   "execution_count": 14,
   "id": "f2131926-6769-4bbf-a0f0-33bed1c49c67",
   "metadata": {},
   "outputs": [],
   "source": [
    "w = np.hstack(\n",
    "    [eigen_vector.reshape(-1, 1) for eigen_value, eigen_vector in eigen_pairs[:k]]\n",
    ")"
   ]
  },
  {
   "cell_type": "code",
   "execution_count": 15,
   "id": "c54cd44c-50d8-4272-a976-8463b41e0ec4",
   "metadata": {},
   "outputs": [
    {
     "name": "stdout",
     "output_type": "stream",
     "text": [
      "Projection matrix W:\n",
      " [[ 0.14437334 -0.4869468 ]\n",
      " [-0.2337447  -0.22289583]\n",
      " [ 0.00706511 -0.31157842]\n",
      " [-0.2235901   0.03897025]\n",
      " [ 0.15184439 -0.2964377 ]\n",
      " [ 0.39439159 -0.07626637]\n",
      " [ 0.429506    0.00253396]\n",
      " [-0.29140435 -0.0208294 ]\n",
      " [ 0.31334896 -0.01090402]\n",
      " [-0.09640988 -0.52442852]\n",
      " [ 0.29685959  0.29752402]\n",
      " [ 0.38316219  0.17026267]\n",
      " [ 0.28993558 -0.35751114]]\n"
     ]
    }
   ],
   "source": [
    "print(\"Projection matrix W:\\n\", w)"
   ]
  },
  {
   "cell_type": "markdown",
   "id": "916a3681-9505-4419-b822-a1bc4ab10551",
   "metadata": {},
   "source": [
    "#### 3.6 Transform the $d$-dimensional input dataset, $\\textbf{X}$, using the projection matrix, $\\textbf{W}$, to obtain the new $k$-dimensional feature subspace."
   ]
  },
  {
   "cell_type": "markdown",
   "id": "f7c2674c-a764-4a12-a131-27af77c8a680",
   "metadata": {},
   "source": [
    "Using the projection matrix, we can now transform the entire $124×13$-dimensional training dataset onto the two principal components by calculating the matrix dot product:  \n",
    "$X' = XW$"
   ]
  },
  {
   "cell_type": "code",
   "execution_count": 16,
   "id": "b65da8b1-5b91-4e8f-a60a-139deb04400c",
   "metadata": {},
   "outputs": [
    {
     "data": {
      "text/plain": [
       "(142, 2)"
      ]
     },
     "execution_count": 16,
     "metadata": {},
     "output_type": "execute_result"
    }
   ],
   "source": [
    "X_train_pca = X_train_scaled.dot(w)\n",
    "X_train_pca.shape"
   ]
  },
  {
   "cell_type": "markdown",
   "id": "6a751595-bcfd-4d63-817d-4e36050106e2",
   "metadata": {},
   "source": [
    "#### 3.7 Visualisation"
   ]
  },
  {
   "cell_type": "code",
   "execution_count": 17,
   "id": "9133c8b6-bf98-4106-8d50-5ebc23b20308",
   "metadata": {},
   "outputs": [],
   "source": [
    "def plot_2_pca(X_train_pca, y_train):\n",
    "    colors = [\"r\", \"b\", \"g\"]\n",
    "    markers = [\"o\", \"s\", \"^\"]\n",
    "    for l, c, m in zip(np.unique(y_train), colors, markers):\n",
    "        plt.scatter(\n",
    "            X_train_pca[y_train == l, 0],\n",
    "            X_train_pca[y_train == l, 1],\n",
    "            c=c,\n",
    "            label=f\"Class {l}\",\n",
    "            marker=m,\n",
    "        )\n",
    "    plt.xlabel(\"PC 1\")\n",
    "    plt.ylabel(\"PC 2\")\n",
    "    plt.legend(loc=\"lower left\")\n",
    "    plt.tight_layout()\n",
    "    plt.show()"
   ]
  },
  {
   "cell_type": "code",
   "execution_count": 18,
   "id": "f7c4edb0-d1d7-46a9-adab-bb1de232c50c",
   "metadata": {},
   "outputs": [
    {
     "data": {
      "image/png": "[encoded data removed]",
      "text/plain": [
       "<Figure size 432x288 with 1 Axes>"
      ]
     },
     "metadata": {
      "needs_background": "light"
     },
     "output_type": "display_data"
    }
   ],
   "source": [
    "plot_2_pca(X_train_pca, y_train)"
   ]
  },
  {
   "cell_type": "markdown",
   "id": "458503ac-82e3-453f-a53d-6a8223fc602e",
   "metadata": {},
   "source": [
    "As we can see, the data is more spread along the first principal component (x axis) than the second principal component (y axis), which is consistent with the explained variance ratio plot that we created in the previous subsection.  \n",
    "However, we can tell that a linear classifier will likely be able to separate the classes well."
   ]
  },
  {
   "cell_type": "markdown",
   "id": "04bb446b-a4fa-4f97-9b66-5dd2540aed4f",
   "metadata": {},
   "source": [
    "### 4.1 Sklearn Implementation"
   ]
  },
  {
   "cell_type": "code",
   "execution_count": 19,
   "id": "b1ff829e-b896-4735-93e6-002bbf69c189",
   "metadata": {},
   "outputs": [
    {
     "data": {
      "text/plain": [
       "array([0.35792104, 0.19270671, 0.11019835, 0.07272276, 0.06721919,\n",
       "       0.05131943, 0.04377423, 0.02500853, 0.0227943 , 0.01877102,\n",
       "       0.01781765, 0.01256721, 0.00717958])"
      ]
     },
     "execution_count": 19,
     "metadata": {},
     "output_type": "execute_result"
    }
   ],
   "source": [
    "pca = PCA()\n",
    "X_train_pca_sklearn = pca.fit_transform(X_train_scaled)\n",
    "pca.explained_variance_ratio_"
   ]
  },
  {
   "cell_type": "code",
   "execution_count": 20,
   "id": "42fac746-a10e-4ede-af39-6d9ece5b0ac9",
   "metadata": {},
   "outputs": [
    {
     "data": {
      "image/png": "[encoded data removed]",
      "text/plain": [
       "<Figure size 432x288 with 1 Axes>"
      ]
     },
     "metadata": {
      "needs_background": "light"
     },
     "output_type": "display_data"
    }
   ],
   "source": [
    "plt.bar(range(1, 14), pca.explained_variance_ratio_, align=\"center\")\n",
    "plt.step(range(1, 14), np.cumsum(pca.explained_variance_ratio_), where=\"mid\")\n",
    "plt.ylabel(\"Explained variance ratio\")\n",
    "plt.xlabel(\"Principal components\")\n",
    "\n",
    "plt.show()"
   ]
  },
  {
   "cell_type": "code",
   "execution_count": 21,
   "id": "940ac669-6d1e-4a32-9d1b-978cf87fbc97",
   "metadata": {},
   "outputs": [],
   "source": [
    "pca = PCA(n_components=2)\n",
    "X_train_pca_sklearn = pca.fit_transform(X_train_scaled)"
   ]
  },
  {
   "cell_type": "code",
   "execution_count": 22,
   "id": "dcc8390c-d0c1-40c7-b3c0-d08c1149ba3d",
   "metadata": {},
   "outputs": [
    {
     "data": {
      "image/png": "[encoded data removed]",
      "text/plain": [
       "<Figure size 432x288 with 1 Axes>"
      ]
     },
     "metadata": {
      "needs_background": "light"
     },
     "output_type": "display_data"
    }
   ],
   "source": [
    "plot_2_pca(X_train_pca_sklearn, y_train)"
   ]
  },
  {
   "cell_type": "code",
   "execution_count": null,
   "id": "936ba7a6-466f-4241-8e25-53b1ebc4a1b6",
   "metadata": {},
   "outputs": [],
   "source": []
  }
 ],
 "metadata": {
  "kernelspec": {
   "display_name": "mla",
   "language": "python",
   "name": "mla"
  },
  "language_info": {
   "codemirror_mode": {
    "name": "ipython",
    "version": 3
   },
   "file_extension": ".py",
   "mimetype": "text/x-python",
   "name": "python",
   "nbconvert_exporter": "python",
   "pygments_lexer": "ipython3",
   "version": "3.8.10"
  }
 },
 "nbformat": 4,
 "nbformat_minor": 5
}
