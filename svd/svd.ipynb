{
 "cells": [
  {
   "cell_type": "markdown",
   "id": "c504abdf-5fd3-442b-8e5a-d067c798820f",
   "metadata": {},
   "source": [
    "### SVD definition"
   ]
  },
  {
   "cell_type": "markdown",
   "id": "b94471b7-fd0b-4343-94b4-b7857faba8a5",
   "metadata": {},
   "source": [
    "$$ \\large A_{[\\text{m x n}]} = U_{[\\text{m x m}]}\\Sigma_{[\\text{m x n}]}V^T_{[\\text{n x n}]}$$\n",
    "* $A$: Input data matrix\n",
    "    * $\\text{m x n}$ matrix (e.g., $m$ words, $n$ contexts: each element $A_{ij}$ says about the association between a word $i$ and a context $j$)\n",
    "* $U$: Left singular vectors\n",
    "    * $\\text{m x m}$ matrix (rows are word vectors)\n",
    "* $\\Sigma$: Singular values\n",
    "    * $\\text{m x n}$ matrix (values on the diagonal are the singular values)\n",
    "* $V^T$: Right singular vectors\n",
    "    * $\\text{n x n}$ matrix (columns are context vectors)"
   ]
  },
  {
   "cell_type": "markdown",
   "id": "6b6f266a-649b-42cc-8ffc-644c2c3141af",
   "metadata": {},
   "source": [
    "#### SVD Theorem"
   ]
  },
  {
   "cell_type": "markdown",
   "id": "9c57b2a9-8495-411a-b1e2-1f922a7dba4e",
   "metadata": {},
   "source": [
    "Let $A \\in \\mathbb{R}^{\\text{m x n}}$ be a rectangular matrix of rank $r \\in [0; min(\\text{m; n})]$. The SVD of A is a decomposition of the form $$A_{[\\text{m x n}]} = U_{[\\text{m x m}]}\\Sigma_{[\\text{m x n}]}V^T_{[\\text{n x n}]}$$ \n",
    "with an orthogonal matrix $U \\in \\mathbb{R}^{\\text{m x m}}$ with column vectors $u_i, i = 1; ... ;m$ (*left-singular vectors*),  \n",
    "and an orthogonal matrix $V \\in \\mathbb{R}^{\\text{n x n}}$ with column vectors $v_j, j = 1; ... ;n$ (*right-singular vectors*).  \n",
    "Moreover, $\\Sigma$ is an $\\text{m x n}$ matrix with $\\Sigma_{ii} = \\sigma_i > 0$ and $\\Sigma_{ij} = 0; i \\neq j$.  \n",
    "\n",
    "Remarks:\n",
    "* The diagonal entries $\\sigma_i, i = 1; ...; r$, of $\\Sigma$ are called the *singular values*.  \n",
    "* By convention, the singular values are ordered, i.e., $\\sigma_1 \\geqslant \\sigma_2 \\geqslant \\sigma_r \\geqslant 0$.\n",
    "\n",
    "\n",
    "$©$ 2021 M. P. Deisenroth, A. A. Faisal, C. S. Ong. Published by Cambridge University Press (2020)."
   ]
  },
  {
   "cell_type": "markdown",
   "id": "e16d63a6-78b9-4fea-960c-66312992994f",
   "metadata": {},
   "source": [
    "#### Python Implementation"
   ]
  },
  {
   "cell_type": "code",
   "execution_count": 18,
   "id": "c875cd04-2280-43d9-b50d-4b77891b663d",
   "metadata": {},
   "outputs": [],
   "source": [
    "import numpy as np\n",
    "np.random.seed(42)\n",
    "\n",
    "A = np.random.rand(5, 10) # create random data matrix\n",
    "U, S, V = np.linalg.svd(A, full_matrices=True) # full SVD\n",
    "Uhat, Shat, Vhat = np.linalg.svd(A, full_matrices=False) # economy SVD"
   ]
  },
  {
   "cell_type": "code",
   "execution_count": null,
   "id": "822afdc6-02d1-4b28-b9c0-9522cd16a20c",
   "metadata": {},
   "outputs": [],
   "source": []
  }
 ],
 "metadata": {
  "kernelspec": {
   "display_name": "mla",
   "language": "python",
   "name": "mla"
  },
  "language_info": {
   "codemirror_mode": {
    "name": "ipython",
    "version": 3
   },
   "file_extension": ".py",
   "mimetype": "text/x-python",
   "name": "python",
   "nbconvert_exporter": "python",
   "pygments_lexer": "ipython3",
   "version": "3.8.10"
  }
 },
 "nbformat": 4,
 "nbformat_minor": 5
}
