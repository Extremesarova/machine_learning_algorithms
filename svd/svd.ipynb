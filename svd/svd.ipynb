{
 "cells": [
  {
   "cell_type": "code",
   "execution_count": 15,
   "id": "c875cd04-2280-43d9-b50d-4b77891b663d",
   "metadata": {},
   "outputs": [],
   "source": [
    "import numpy as np\n",
    "from sklearn.decomposition import TruncatedSVD\n",
    "np.set_printoptions(edgeitems=10, linewidth=180)\n",
    "SEED=42"
   ]
  },
  {
   "cell_type": "markdown",
   "id": "c504abdf-5fd3-442b-8e5a-d067c798820f",
   "metadata": {},
   "source": [
    "### SVD"
   ]
  },
  {
   "cell_type": "markdown",
   "id": "b94471b7-fd0b-4343-94b4-b7857faba8a5",
   "metadata": {},
   "source": [
    "$$ \\large A_{[\\text{m x n}]} = U_{[\\text{m x m}]}\\Sigma_{[\\text{m x n}]}V^T_{[\\text{n x n}]}$$\n",
    "* $A$: Input data matrix\n",
    "    * $\\text{m x n}$ matrix (e.g., $m$ words, $n$ contexts: each element $A_{ij}$ says about the association between a word $i$ and a context $j$)\n",
    "* $U$: Left singular vectors\n",
    "    * $\\text{m x m}$ matrix (rows are word vectors)\n",
    "* $\\Sigma$: Singular values\n",
    "    * $\\text{m x n}$ matrix (values on the diagonal are the singular values)\n",
    "* $V^T$: Right singular vectors\n",
    "    * $\\text{n x n}$ matrix (columns are context vectors)"
   ]
  },
  {
   "cell_type": "markdown",
   "id": "6b6f266a-649b-42cc-8ffc-644c2c3141af",
   "metadata": {},
   "source": [
    "#### SVD Theorem"
   ]
  },
  {
   "cell_type": "markdown",
   "id": "9c57b2a9-8495-411a-b1e2-1f922a7dba4e",
   "metadata": {},
   "source": [
    "Let $A \\in \\mathbb{R}^{\\text{m x n}}$ be a rectangular matrix of rank $r \\in [0; min(\\text{m; n})]$. The SVD of A is a decomposition of the form $$A_{[\\text{m x n}]} = U_{[\\text{m x m}]}\\Sigma_{[\\text{m x n}]}V^T_{[\\text{n x n}]}$$ \n",
    "with an orthogonal matrix $U \\in \\mathbb{R}^{\\text{m x m}}$ with column vectors $u_i, i = 1; ... ;m$ (*left-singular vectors*),  \n",
    "and an orthogonal matrix $V \\in \\mathbb{R}^{\\text{n x n}}$ with column vectors $v_j, j = 1; ... ;n$ (*right-singular vectors*).  \n",
    "Moreover, $\\Sigma$ is an $\\text{m x n}$ matrix with $\\Sigma_{ii} = \\sigma_i > 0$ and $\\Sigma_{ij} = 0; i \\neq j$.  \n",
    "\n",
    "Remarks:\n",
    "* The diagonal entries $\\sigma_i, i = 1; ...; r$, of $\\Sigma$ are called the *singular values*.  \n",
    "* By convention, the singular values are ordered, i.e., $\\sigma_1 \\geqslant \\sigma_2 \\geqslant \\sigma_r \\geqslant 0$.\n",
    "\n",
    "\n",
    "$©$ 2021 M. P. Deisenroth, A. A. Faisal, C. S. Ong. Published by Cambridge University Press (2020)."
   ]
  },
  {
   "cell_type": "markdown",
   "id": "e16d63a6-78b9-4fea-960c-66312992994f",
   "metadata": {
    "tags": []
   },
   "source": [
    "#### SVD Python Implementation"
   ]
  },
  {
   "cell_type": "code",
   "execution_count": 100,
   "id": "8a08b5cf-8cf9-4af1-acba-f571ec87367c",
   "metadata": {},
   "outputs": [
    {
     "name": "stdout",
     "output_type": "stream",
     "text": [
      "A:\n",
      "[[0.37454012 0.95071431 0.73199394 0.59865848 0.15601864 0.15599452 0.05808361 0.86617615 0.60111501 0.70807258]\n",
      " [0.02058449 0.96990985 0.83244264 0.21233911 0.18182497 0.18340451 0.30424224 0.52475643 0.43194502 0.29122914]\n",
      " [0.61185289 0.13949386 0.29214465 0.36636184 0.45606998 0.78517596 0.19967378 0.51423444 0.59241457 0.04645041]\n",
      " [0.60754485 0.17052412 0.06505159 0.94888554 0.96563203 0.80839735 0.30461377 0.09767211 0.68423303 0.44015249]\n",
      " [0.12203823 0.49517691 0.03438852 0.9093204  0.25877998 0.66252228 0.31171108 0.52006802 0.54671028 0.18485446]]\n",
      "U:\n",
      "[[-0.51821327 -0.50500623  0.04826096 -0.32463687  0.60721125]\n",
      " [-0.38224002 -0.53992122 -0.1644405   0.06201188 -0.72903463]\n",
      " [-0.39176052  0.26638961 -0.69770141  0.49563613  0.20764835]\n",
      " [-0.50019315  0.6002627   0.02992259 -0.57613136 -0.23805208]\n",
      " [-0.42623712  0.14891289  0.6949443   0.55962748  0.00404675]]\n",
      "S:\n",
      "[3.28058835 1.52963053 0.62591689 0.56047292 0.47296596]\n",
      "V:\n",
      "[[-2.43116965e-01 -3.70182713e-01 -2.61894677e-01 -4.25879566e-01 -2.81146547e-01 -3.49111257e-01 -1.55413012e-01 -3.41838332e-01 -3.91385276e-01 -2.42457293e-01]\n",
      " [ 2.25931511e-01 -5.16813917e-01 -4.55745158e-01  2.52095163e-01  3.67866173e-01  4.02234002e-01  5.80909380e-02 -2.92679180e-01  7.39797945e-02 -1.37754580e-01]\n",
      " [-4.94012547e-01  2.20936292e-01 -4.46617871e-01  6.36959412e-01 -2.10632702e-01 -1.37148615e-01  6.26239897e-02 -6.21965998e-02 -8.77754419e-02  1.52588843e-01]\n",
      " [-1.76255332e-01 -8.60826827e-04 -1.06065683e-01 -6.67274594e-02 -4.01160939e-01  4.54822814e-01  1.74710725e-01  4.29983270e-01  6.60329550e-02 -6.04704177e-01]\n",
      " [ 4.13000025e-01 -2.94815177e-01 -2.47560537e-01  1.32313225e-01 -3.63539354e-01 -1.38922735e-01 -4.57379008e-01  4.84220384e-01  2.63108462e-02  2.60584719e-01]\n",
      " [ 8.71120842e-03  4.65612115e-01 -4.92148458e-01 -4.57171782e-01  1.03994765e-01  4.01996651e-01 -1.84180432e-01  1.47582911e-02 -1.80675834e-01  3.04488285e-01]\n",
      " [ 2.47316443e-01 -7.02482425e-02 -2.73173479e-01 -1.80906425e-01 -8.96783718e-02 -2.53619686e-01  8.20851932e-01  1.73691175e-01 -3.19479618e-02  2.21802909e-01]\n",
      " [-4.20227175e-01 -2.28933874e-01 -6.19240870e-02 -8.62266249e-02  6.04600762e-01 -1.68707291e-01 -4.73055345e-02  5.81605575e-01 -1.58797500e-01 -2.24583036e-03]\n",
      " [-2.31477992e-01 -2.77545704e-02 -2.37198588e-01 -2.60298068e-01 -2.43215492e-03 -2.01151873e-01 -8.67279793e-02 -6.53838087e-02  8.77046947e-01  1.23792022e-02]\n",
      " [-3.90834347e-01 -4.30381304e-01  2.73445131e-01 -1.02345980e-01 -2.52525017e-01  4.20128073e-01  1.06542002e-01 -3.65448253e-02  2.22484391e-02  5.68608221e-01]]\n"
     ]
    }
   ],
   "source": [
    "np.random.seed(SEED)\n",
    "A = np.random.rand(5, 10) # create random data matrix\n",
    "print(f\"A:\\n{A}\")\n",
    "U, S, V = np.linalg.svd(A)\n",
    "print(f\"U:\\n{U}\")\n",
    "print(f\"S:\\n{S}\")\n",
    "print(f\"V:\\n{V}\")"
   ]
  },
  {
   "cell_type": "markdown",
   "id": "e22dcf60-9033-48e1-9714-77e024d52fa4",
   "metadata": {},
   "source": [
    "#### Truncated SVD"
   ]
  },
  {
   "cell_type": "markdown",
   "id": "f7f33f9b-d28e-42f7-9c96-db931c4ffd39",
   "metadata": {},
   "source": [
    "Theory"
   ]
  },
  {
   "cell_type": "markdown",
   "id": "59122a2b-244a-4a6e-bb01-161b19568ea5",
   "metadata": {},
   "source": [
    "##### Truncated SVD my implementation"
   ]
  },
  {
   "cell_type": "code",
   "execution_count": 149,
   "id": "ad1e6db6-7138-4531-93a1-7a52270205a3",
   "metadata": {},
   "outputs": [],
   "source": [
    "# approx_A = np.dot(U[:, 0:4], np.dot(np.diag(S[0:4]), V[0:4, :]))\n",
    "# approx_A"
   ]
  },
  {
   "cell_type": "code",
   "execution_count": 143,
   "id": "7d5d2c93-b9cf-4a54-ab1a-af90f1765acc",
   "metadata": {},
   "outputs": [],
   "source": [
    "# A1 = np.outer(U[:, 0], V[0, :])\n",
    "# A2 = np.outer(U[:, 1], V[1, :])\n",
    "# A3 = np.outer(U[:, 2], V[2, :])\n",
    "# A4 = np.outer(U[:, 3], V[3, :])\n",
    "# approx_A = S[0] * A1 + S[1] * A2 + S[2] * A3 + S[3] * A4\n",
    "# approx_A"
   ]
  },
  {
   "cell_type": "code",
   "execution_count": 156,
   "id": "c51ba24f-d486-44a0-b106-749d9d59d4b2",
   "metadata": {},
   "outputs": [
    {
     "data": {
      "text/plain": [
       "array([[0.25593054, 1.03538235, 0.80309091, 0.56065942, 0.2604236 , 0.19589178, 0.1894384 , 0.72711277, 0.59355879, 0.63323519],\n",
       "       [0.16299044, 0.86825505, 0.74708165, 0.25796184, 0.05647349, 0.13550276, 0.14653404, 0.69171977, 0.44101722, 0.38108098],\n",
       "       [0.57129191, 0.16844784, 0.31645772, 0.35336728, 0.4917734 , 0.79881965, 0.24459325, 0.46667886, 0.58983056, 0.02085823],\n",
       "       [0.65404474, 0.13733073, 0.03717862, 0.96378275, 0.92470094, 0.79275596, 0.25311722, 0.15219074, 0.68719538, 0.46949187],\n",
       "       [0.12124776, 0.49574118, 0.03486235, 0.90906716, 0.25947579, 0.66278818, 0.31258649, 0.51914124, 0.54665992, 0.1843557 ]])"
      ]
     },
     "execution_count": 156,
     "metadata": {},
     "output_type": "execute_result"
    }
   ],
   "source": [
    "approx_A = np.dot(U[:, 0:4] * S[0:4], V[0:4, :])\n",
    "approx_A"
   ]
  },
  {
   "cell_type": "code",
   "execution_count": 170,
   "id": "340312d8-2081-43d7-9f76-8201caff9344",
   "metadata": {},
   "outputs": [],
   "source": [
    "Uk, Sk, Vhk = np.linalg.svd(approx_A) # full SVD"
   ]
  },
  {
   "cell_type": "code",
   "execution_count": 171,
   "id": "a058938c-8c64-4aa2-9519-8734bb566e2c",
   "metadata": {},
   "outputs": [
    {
     "data": {
      "text/plain": [
       "array([[-1.70004442, -0.77247294,  0.03020735, -0.18195017],\n",
       "       [-1.25397214, -0.82587999, -0.10292609,  0.03475598],\n",
       "       [-1.28520498,  0.40747768, -0.4367031 ,  0.27779063],\n",
       "       [-1.64092783,  0.91818016,  0.01872906, -0.32290603],\n",
       "       [-1.39830854,  0.2277817 ,  0.43497737,  0.31365605]])"
      ]
     },
     "execution_count": 171,
     "metadata": {},
     "output_type": "execute_result"
    }
   ],
   "source": [
    "Uk[:, :4].dot(np.diag(Sk[:4]))"
   ]
  },
  {
   "cell_type": "markdown",
   "id": "2611aa93-ec80-497b-af1b-30bbe6502f70",
   "metadata": {
    "tags": [],
    "toc-hr-collapsed": true
   },
   "source": [
    "##### Truncated SVD Sklearn's implementation"
   ]
  },
  {
   "cell_type": "code",
   "execution_count": 96,
   "id": "861ce206-c015-4908-a00b-f2278207e5b3",
   "metadata": {},
   "outputs": [
    {
     "name": "stdout",
     "output_type": "stream",
     "text": [
      "A:\n",
      "[[0.37454012 0.95071431 0.73199394 0.59865848 0.15601864 0.15599452 0.05808361 0.86617615 0.60111501 0.70807258]\n",
      " [0.02058449 0.96990985 0.83244264 0.21233911 0.18182497 0.18340451 0.30424224 0.52475643 0.43194502 0.29122914]\n",
      " [0.61185289 0.13949386 0.29214465 0.36636184 0.45606998 0.78517596 0.19967378 0.51423444 0.59241457 0.04645041]\n",
      " [0.60754485 0.17052412 0.06505159 0.94888554 0.96563203 0.80839735 0.30461377 0.09767211 0.68423303 0.44015249]\n",
      " [0.12203823 0.49517691 0.03438852 0.9093204  0.25877998 0.66252228 0.31171108 0.52006802 0.54671028 0.18485446]]\n"
     ]
    },
    {
     "data": {
      "text/plain": [
       "TruncatedSVD(n_components=4, n_iter=10, random_state=42)"
      ]
     },
     "execution_count": 96,
     "metadata": {},
     "output_type": "execute_result"
    }
   ],
   "source": [
    "np.random.seed(SEED)\n",
    "A = np.random.rand(5, 10) # create random data matrix\n",
    "print(f\"A:\\n{A}\")\n",
    "truncated_svd = TruncatedSVD(n_components=4, n_iter=10, random_state=SEED)\n",
    "truncated_svd.fit(A)"
   ]
  },
  {
   "cell_type": "code",
   "execution_count": 97,
   "id": "e64be8c3-2007-4b18-9a6e-e806155ed24e",
   "metadata": {},
   "outputs": [
    {
     "name": "stdout",
     "output_type": "stream",
     "text": [
      "reduced_A:\n",
      "[[ 1.70004442 -0.77247294 -0.03020735  0.18195017]\n",
      " [ 1.25397214 -0.82587999  0.10292609 -0.03475598]\n",
      " [ 1.28520498  0.40747768  0.4367031  -0.27779063]\n",
      " [ 1.64092783  0.91818016 -0.01872906  0.32290603]\n",
      " [ 1.39830854  0.2277817  -0.43497737 -0.31365605]]\n"
     ]
    }
   ],
   "source": [
    "reduced_A = truncated_svd.transform(A)\n",
    "print(f\"reduced_A:\\n{reduced_A}\")"
   ]
  },
  {
   "cell_type": "markdown",
   "id": "329e1621-a367-49ee-8e21-21f7a7b80f5b",
   "metadata": {},
   "source": [
    "##### Truncated SVD scipy's implementation"
   ]
  },
  {
   "cell_type": "code",
   "execution_count": 174,
   "id": "45b02a58-54d7-471b-aaa1-8252797a939f",
   "metadata": {},
   "outputs": [
    {
     "data": {
      "text/plain": [
       "array([[-1.70004442, -0.77247294, -0.03020735, -0.18195017],\n",
       "       [-1.25397214, -0.82587999,  0.10292609,  0.03475598],\n",
       "       [-1.28520498,  0.40747768,  0.4367031 ,  0.27779063],\n",
       "       [-1.64092783,  0.91818016, -0.01872906, -0.32290603],\n",
       "       [-1.39830854,  0.2277817 , -0.43497737,  0.31365605]])"
      ]
     },
     "execution_count": 174,
     "metadata": {},
     "output_type": "execute_result"
    }
   ],
   "source": [
    "from scipy.sparse.linalg import svds\n",
    "num_components = 4\n",
    "u, s, v = svds(A, k=num_components, which='LM')\n",
    "n = len(s)\n",
    "# reverse the n first columns of u\n",
    "u[:,:n] = u[:, n-1::-1]\n",
    "# reverse s\n",
    "s = s[::-1]\n",
    "# # reverse the n first rows of vt\n",
    "# v[:n, :] = v[n-1::-1, :]\n",
    "X = u.dot(np.diag(s))  # output of TruncatedSVD\n",
    "X"
   ]
  },
  {
   "cell_type": "markdown",
   "id": "27f97678-b81f-41df-8fa8-6915b66db2af",
   "metadata": {},
   "source": [
    "### TODO\n",
    "* Write theory for truncated SVD\n",
    "* Write about difference in signs"
   ]
  },
  {
   "cell_type": "code",
   "execution_count": null,
   "id": "75c66c22-9c9c-43c2-bf71-cb86b74c5e6d",
   "metadata": {},
   "outputs": [],
   "source": []
  }
 ],
 "metadata": {
  "kernelspec": {
   "display_name": "mla",
   "language": "python",
   "name": "mla"
  },
  "language_info": {
   "codemirror_mode": {
    "name": "ipython",
    "version": 3
   },
   "file_extension": ".py",
   "mimetype": "text/x-python",
   "name": "python",
   "nbconvert_exporter": "python",
   "pygments_lexer": "ipython3",
   "version": "3.8.10"
  }
 },
 "nbformat": 4,
 "nbformat_minor": 5
}
