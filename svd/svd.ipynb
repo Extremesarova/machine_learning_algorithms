{
 "cells": [
  {
   "cell_type": "code",
   "execution_count": 1,
   "id": "c875cd04-2280-43d9-b50d-4b77891b663d",
   "metadata": {},
   "outputs": [],
   "source": [
    "import numpy as np\n",
    "from sklearn.decomposition import TruncatedSVD\n",
    "np.set_printoptions(edgeitems=10, linewidth=180)\n",
    "SEED=42"
   ]
  },
  {
   "cell_type": "markdown",
   "id": "c504abdf-5fd3-442b-8e5a-d067c798820f",
   "metadata": {},
   "source": [
    "### SVD"
   ]
  },
  {
   "cell_type": "markdown",
   "id": "b94471b7-fd0b-4343-94b4-b7857faba8a5",
   "metadata": {},
   "source": [
    "$$ \\large A_{[\\text{m x n}]} = U_{[\\text{m x m}]}\\Sigma_{[\\text{m x n}]}V^T_{[\\text{n x n}]}$$\n",
    "* $A$: Input data matrix\n",
    "    * $\\text{m x n}$ matrix (e.g., $m$ words, $n$ contexts: each element $A_{ij}$ says about the association between a word $i$ and a context $j$)\n",
    "* $U$: Left singular vectors\n",
    "    * $\\text{m x m}$ matrix (rows are word vectors)\n",
    "* $\\Sigma$: Singular values\n",
    "    * $\\text{m x n}$ matrix (values on the diagonal are the singular values)\n",
    "* $V^T$: Right singular vectors\n",
    "    * $\\text{n x n}$ matrix (columns are context vectors)"
   ]
  },
  {
   "cell_type": "markdown",
   "id": "6b6f266a-649b-42cc-8ffc-644c2c3141af",
   "metadata": {},
   "source": [
    "#### SVD Theorem"
   ]
  },
  {
   "cell_type": "markdown",
   "id": "9c57b2a9-8495-411a-b1e2-1f922a7dba4e",
   "metadata": {},
   "source": [
    "Let $A \\in \\mathbb{R}^{\\text{m x n}}$ be a rectangular matrix of rank $r \\in [0; min(\\text{m; n})]$. The SVD of A is a decomposition of the form $$A_{[\\text{m x n}]} = U_{[\\text{m x m}]}\\Sigma_{[\\text{m x n}]}V^T_{[\\text{n x n}]}$$ \n",
    "with an orthogonal matrix $U \\in \\mathbb{R}^{\\text{m x m}}$ with column vectors $u_i, i = 1; ... ;m$ (*left-singular vectors*),  \n",
    "and an orthogonal matrix $V \\in \\mathbb{R}^{\\text{n x n}}$ with column vectors $v_j, j = 1; ... ;n$ (*right-singular vectors*).  \n",
    "Moreover, $\\Sigma$ is an $\\text{m x n}$ matrix with $\\Sigma_{ii} = \\sigma_i > 0$ and $\\Sigma_{ij} = 0; i \\neq j$.  \n",
    "\n",
    "Remarks:\n",
    "* The diagonal entries $\\sigma_i, i = 1; ...; r$, of $\\Sigma$ are called the *singular values*.  \n",
    "* By convention, the singular values are ordered, i.e., $\\sigma_1 \\geqslant \\sigma_2 \\geqslant \\sigma_r \\geqslant 0$.\n",
    "* The SVD exists for any matrix $A \\in \\mathbb{R}^{\\text{m x n}}$.\n",
    "\n",
    "$©$ 2021 M. P. Deisenroth, A. A. Faisal, C. S. Ong. Published by Cambridge University Press (2020)."
   ]
  },
  {
   "cell_type": "markdown",
   "id": "e16d63a6-78b9-4fea-960c-66312992994f",
   "metadata": {
    "tags": []
   },
   "source": [
    "#### SVD Python Implementation"
   ]
  },
  {
   "cell_type": "code",
   "execution_count": 2,
   "id": "8a08b5cf-8cf9-4af1-acba-f571ec87367c",
   "metadata": {},
   "outputs": [
    {
     "name": "stdout",
     "output_type": "stream",
     "text": [
      "A:\n",
      "[[0.37454012 0.95071431 0.73199394 0.59865848 0.15601864 0.15599452 0.05808361]\n",
      " [0.86617615 0.60111501 0.70807258 0.02058449 0.96990985 0.83244264 0.21233911]\n",
      " [0.18182497 0.18340451 0.30424224 0.52475643 0.43194502 0.29122914 0.61185289]\n",
      " [0.13949386 0.29214465 0.36636184 0.45606998 0.78517596 0.19967378 0.51423444]\n",
      " [0.59241457 0.04645041 0.60754485 0.17052412 0.06505159 0.94888554 0.96563203]]\n",
      "U:\n",
      "[[-0.39184014 -0.66322871  0.27597594  0.57092478 -0.06686672]\n",
      " [-0.60689845 -0.13318018 -0.74124561 -0.19370056  0.16423262]\n",
      " [-0.33040979  0.09248678  0.4911744  -0.2684105   0.75430702]\n",
      " [-0.36567506 -0.10992275  0.34886432 -0.61679441 -0.59334399]\n",
      " [-0.48502237  0.72232534  0.10692817  0.42900519 -0.21799156]]\n",
      "S:\n",
      "[2.77351184 1.12365801 0.86764052 0.77654903 0.09131995]\n",
      "V:\n",
      "[[-0.38610302 -0.33434216 -0.44914883 -0.24154835 -0.40063314 -0.43115174 -0.36422624]\n",
      " [ 0.05841249 -0.61602032 -0.13622357 -0.24759711 -0.20648622  0.42367457  0.56134575]\n",
      " [-0.38883292  0.0158703   0.02232176  0.67429362 -0.21074161 -0.29946477  0.50921093]\n",
      " [ 0.21294418  0.27925685  0.30103389 -0.01441516 -0.86423445  0.17200037 -0.09672583]\n",
      " [ 0.46487912 -0.10921172 -0.58019744  0.5628406  -0.05894212  0.22596708 -0.25299467]\n",
      " [-0.63675826  0.30397948 -0.22456725  0.02967576  0.00859601  0.65770728 -0.13480183]\n",
      " [ 0.17147157  0.57111059 -0.54911682 -0.32832939 -0.04466827 -0.17805836  0.44877689]]\n"
     ]
    }
   ],
   "source": [
    "np.random.seed(SEED)\n",
    "A = np.random.rand(5, 7) # create random data matrix\n",
    "U, S, V = np.linalg.svd(A)\n",
    "\n",
    "print(f\"A:\\n{A}\")\n",
    "print(f\"U:\\n{U}\")\n",
    "print(f\"S:\\n{S}\")\n",
    "print(f\"V:\\n{V}\")"
   ]
  },
  {
   "cell_type": "markdown",
   "id": "e22dcf60-9033-48e1-9714-77e024d52fa4",
   "metadata": {},
   "source": [
    "#### Truncated SVD"
   ]
  },
  {
   "cell_type": "markdown",
   "id": "f7f33f9b-d28e-42f7-9c96-db931c4ffd39",
   "metadata": {},
   "source": [
    "Datasets with large number of features (for example, datasets, where the number of features is more than the number of rows or word-context matrices, which has a lot of uninformative elements (e.g., zeros)) can be reduced/approximated with a lower rank (than original) matrix.  \n",
    "\n",
    "To do this we need to:\n",
    "1. Perform SVD operation on the original data\n",
    "2. Select top k largest singular values\n",
    "3. Truncate U, S, V accordingly -> Ut, St, Vt\n",
    "4. Get approximated matrix by doing (one of):\n",
    " * $dot(Ut, St)$\n",
    " * $dot(A, Vt^T)$"
   ]
  },
  {
   "cell_type": "markdown",
   "id": "59122a2b-244a-4a6e-bb01-161b19568ea5",
   "metadata": {},
   "source": [
    "##### Truncated SVD my implementation"
   ]
  },
  {
   "cell_type": "code",
   "execution_count": 3,
   "id": "b576a687-5f33-4312-adf7-4fd1f516f7b0",
   "metadata": {},
   "outputs": [],
   "source": [
    "n_components=4\n",
    "U, S, V = np.linalg.svd(A)"
   ]
  },
  {
   "cell_type": "code",
   "execution_count": 4,
   "id": "c51ba24f-d486-44a0-b106-749d9d59d4b2",
   "metadata": {},
   "outputs": [
    {
     "name": "stdout",
     "output_type": "stream",
     "text": [
      "Original matrix A:\n",
      "[[0.37454012 0.95071431 0.73199394 0.59865848 0.15601864 0.15599452 0.05808361]\n",
      " [0.86617615 0.60111501 0.70807258 0.02058449 0.96990985 0.83244264 0.21233911]\n",
      " [0.18182497 0.18340451 0.30424224 0.52475643 0.43194502 0.29122914 0.61185289]\n",
      " [0.13949386 0.29214465 0.36636184 0.45606998 0.78517596 0.19967378 0.51423444]\n",
      " [0.59241457 0.04645041 0.60754485 0.17052412 0.06505159 0.94888554 0.96563203]]\n",
      "Low rank approximation for matrix A (4 out of 5 signular values were used):\n",
      "[[0.37737879 0.95004743 0.7284511  0.60209534 0.15565872 0.15737434 0.05653876]\n",
      " [0.85920402 0.60275294 0.71677421 0.01214317 0.97079385 0.82905365 0.21613345]\n",
      " [0.14980257 0.19092737 0.34420815 0.48598612 0.43600515 0.27566379 0.62928   ]\n",
      " [0.16468294 0.2862271  0.33492434 0.48656702 0.78198223 0.21191762 0.50052614]\n",
      " [0.60166891 0.04427634 0.59599487 0.18172858 0.06387823 0.95338386 0.96059567]]\n"
     ]
    }
   ],
   "source": [
    "Ut = U[:, :n_components]\n",
    "St = S[:n_components]\n",
    "Vt = V[:n_components, :]\n",
    "approx_A = np.dot(Ut * St, Vt)\n",
    "print(f\"Original matrix A:\\n{A}\")\n",
    "print(f\"Low rank approximation for matrix A (4 out of 5 signular values were used):\\n{approx_A}\")"
   ]
  },
  {
   "cell_type": "markdown",
   "id": "3ee92bf3-ecb8-473c-8b86-a6d2ecaa8eb6",
   "metadata": {},
   "source": [
    "We can see that the matrices are very close"
   ]
  },
  {
   "cell_type": "code",
   "execution_count": 5,
   "id": "a058938c-8c64-4aa2-9519-8734bb566e2c",
   "metadata": {},
   "outputs": [],
   "source": [
    "truncated_A_1 = Ut.dot(np.diag(St))\n",
    "truncated_A_2 = A.dot(Vt.T)\n",
    "\n",
    "assert np.allclose(truncated_A_1, truncated_A_2)\n",
    "truncated_A = truncated_A_1"
   ]
  },
  {
   "cell_type": "code",
   "execution_count": 6,
   "id": "eb995629-ce41-4a10-a7f4-feb0d5aa9ff9",
   "metadata": {},
   "outputs": [
    {
     "name": "stdout",
     "output_type": "stream",
     "text": [
      "Original matrix A:\n",
      "[[0.37454012 0.95071431 0.73199394 0.59865848 0.15601864 0.15599452 0.05808361]\n",
      " [0.86617615 0.60111501 0.70807258 0.02058449 0.96990985 0.83244264 0.21233911]\n",
      " [0.18182497 0.18340451 0.30424224 0.52475643 0.43194502 0.29122914 0.61185289]\n",
      " [0.13949386 0.29214465 0.36636184 0.45606998 0.78517596 0.19967378 0.51423444]\n",
      " [0.59241457 0.04645041 0.60754485 0.17052412 0.06505159 0.94888554 0.96563203]]\n",
      "Truncated matrix A:\n",
      "[[-1.08677327 -0.74524225  0.23944791  0.44335109]\n",
      " [-1.68324005 -0.14964898 -0.64313472 -0.15041798]\n",
      " [-0.91639545  0.10392351  0.42616281 -0.20843391]\n",
      " [-1.01420411 -0.12351558  0.30268882 -0.4789711 ]\n",
      " [-1.34521527  0.81164666  0.09277521  0.33314356]]\n"
     ]
    }
   ],
   "source": [
    "print(f\"Original matrix A:\\n{A}\")\n",
    "print(f\"Truncated matrix A:\\n{truncated_A}\")"
   ]
  },
  {
   "cell_type": "markdown",
   "id": "2611aa93-ec80-497b-af1b-30bbe6502f70",
   "metadata": {
    "tags": [],
    "toc-hr-collapsed": true
   },
   "source": [
    "##### Truncated SVD Sklearn's implementation"
   ]
  },
  {
   "cell_type": "code",
   "execution_count": 7,
   "id": "861ce206-c015-4908-a00b-f2278207e5b3",
   "metadata": {},
   "outputs": [
    {
     "data": {
      "text/plain": [
       "TruncatedSVD(n_components=4, n_iter=10, random_state=42)"
      ]
     },
     "execution_count": 7,
     "metadata": {},
     "output_type": "execute_result"
    }
   ],
   "source": [
    "truncated_svd = TruncatedSVD(n_components=n_components, n_iter=10, random_state=SEED)\n",
    "truncated_svd.fit(A)"
   ]
  },
  {
   "cell_type": "code",
   "execution_count": 8,
   "id": "e64be8c3-2007-4b18-9a6e-e806155ed24e",
   "metadata": {},
   "outputs": [
    {
     "name": "stdout",
     "output_type": "stream",
     "text": [
      "Original matrix A:\n",
      "[[0.37454012 0.95071431 0.73199394 0.59865848 0.15601864 0.15599452 0.05808361]\n",
      " [0.86617615 0.60111501 0.70807258 0.02058449 0.96990985 0.83244264 0.21233911]\n",
      " [0.18182497 0.18340451 0.30424224 0.52475643 0.43194502 0.29122914 0.61185289]\n",
      " [0.13949386 0.29214465 0.36636184 0.45606998 0.78517596 0.19967378 0.51423444]\n",
      " [0.59241457 0.04645041 0.60754485 0.17052412 0.06505159 0.94888554 0.96563203]]\n",
      "Truncated matrix A:\n",
      "[[ 1.08677327 -0.74524225 -0.23944791 -0.44335109]\n",
      " [ 1.68324005 -0.14964898  0.64313472  0.15041798]\n",
      " [ 0.91639545  0.10392351 -0.42616281  0.20843391]\n",
      " [ 1.01420411 -0.12351558 -0.30268882  0.4789711 ]\n",
      " [ 1.34521527  0.81164666 -0.09277521 -0.33314356]]\n"
     ]
    }
   ],
   "source": [
    "truncated_A_sklearn = truncated_svd.transform(A)\n",
    "print(f\"Original matrix A:\\n{A}\")\n",
    "print(f\"Truncated matrix A:\\n{truncated_A_sklearn}\")"
   ]
  },
  {
   "cell_type": "markdown",
   "id": "329e1621-a367-49ee-8e21-21f7a7b80f5b",
   "metadata": {},
   "source": [
    "##### Truncated SVD scipy's implementation"
   ]
  },
  {
   "cell_type": "code",
   "execution_count": 9,
   "id": "45b02a58-54d7-471b-aaa1-8252797a939f",
   "metadata": {},
   "outputs": [
    {
     "name": "stdout",
     "output_type": "stream",
     "text": [
      "Original matrix A:\n",
      "[[0.37454012 0.95071431 0.73199394 0.59865848 0.15601864 0.15599452 0.05808361]\n",
      " [0.86617615 0.60111501 0.70807258 0.02058449 0.96990985 0.83244264 0.21233911]\n",
      " [0.18182497 0.18340451 0.30424224 0.52475643 0.43194502 0.29122914 0.61185289]\n",
      " [0.13949386 0.29214465 0.36636184 0.45606998 0.78517596 0.19967378 0.51423444]\n",
      " [0.59241457 0.04645041 0.60754485 0.17052412 0.06505159 0.94888554 0.96563203]]\n",
      "Truncated matrix A:\n",
      "[[-1.08677327  0.74524225 -0.23944791 -0.44335109]\n",
      " [-1.68324005  0.14964898  0.64313472  0.15041798]\n",
      " [-0.91639545 -0.10392351 -0.42616281  0.20843391]\n",
      " [-1.01420411  0.12351558 -0.30268882  0.4789711 ]\n",
      " [-1.34521527 -0.81164666 -0.09277521 -0.33314356]]\n"
     ]
    }
   ],
   "source": [
    "from scipy.sparse.linalg import svds\n",
    "U_scipy, S_scipy, V_scipy = svds(A, k=n_components, which='LM')\n",
    "n = len(S_scipy)\n",
    "U_scipy[:,:n] = U_scipy[:, n-1::-1]\n",
    "S_scipy = S_scipy[::-1]\n",
    "# V_scipy[:n, :] = V_scipy[n-1::-1, :]\n",
    "truncated_A_scipy = U_scipy.dot(np.diag(S_scipy)) \n",
    "print(f\"Original matrix A:\\n{A}\")\n",
    "print(f\"Truncated matrix A:\\n{truncated_A_scipy}\")"
   ]
  },
  {
   "cell_type": "code",
   "execution_count": 10,
   "id": "880e6e81-7fe6-43da-84a1-b074a702ebee",
   "metadata": {},
   "outputs": [
    {
     "name": "stdout",
     "output_type": "stream",
     "text": [
      "Truncated matrix A (my implementation):\n",
      "[[-1.08677327 -0.74524225  0.23944791  0.44335109]\n",
      " [-1.68324005 -0.14964898 -0.64313472 -0.15041798]\n",
      " [-0.91639545  0.10392351  0.42616281 -0.20843391]\n",
      " [-1.01420411 -0.12351558  0.30268882 -0.4789711 ]\n",
      " [-1.34521527  0.81164666  0.09277521  0.33314356]]\n",
      "Truncated matrix A (sklearn implementation):\n",
      "[[ 1.08677327 -0.74524225 -0.23944791 -0.44335109]\n",
      " [ 1.68324005 -0.14964898  0.64313472  0.15041798]\n",
      " [ 0.91639545  0.10392351 -0.42616281  0.20843391]\n",
      " [ 1.01420411 -0.12351558 -0.30268882  0.4789711 ]\n",
      " [ 1.34521527  0.81164666 -0.09277521 -0.33314356]]\n",
      "Truncated matrix A (scipy implementation):\n",
      "[[-1.08677327  0.74524225 -0.23944791 -0.44335109]\n",
      " [-1.68324005  0.14964898  0.64313472  0.15041798]\n",
      " [-0.91639545 -0.10392351 -0.42616281  0.20843391]\n",
      " [-1.01420411  0.12351558 -0.30268882  0.4789711 ]\n",
      " [-1.34521527 -0.81164666 -0.09277521 -0.33314356]]\n"
     ]
    }
   ],
   "source": [
    "print(f\"Truncated matrix A (my implementation):\\n{truncated_A}\")\n",
    "print(f\"Truncated matrix A (sklearn implementation):\\n{truncated_A_sklearn}\")\n",
    "print(f\"Truncated matrix A (scipy implementation):\\n{truncated_A_scipy}\")"
   ]
  },
  {
   "cell_type": "markdown",
   "id": "0cf861fb-e5de-4098-9b70-74f70c1bb09c",
   "metadata": {},
   "source": [
    "We can see that the values match between several implementations, except for the sign on some values. We can expect there to be some instability when it comes to the sign given the nature of the calculations involved and the differences in the underlying libraries and methods used. This instability of sign should not be a problem in practice as long as the transform is trained for reuse."
   ]
  },
  {
   "cell_type": "markdown",
   "id": "27f97678-b81f-41df-8fa8-6915b66db2af",
   "metadata": {},
   "source": [
    "### TODO\n",
    "* Investigate how SVD is done analytically and computationally \n",
    "* Investigate difference in signs\n",
    "* Investigate geometric interpretation of SVD\n",
    "* Write about economy SVD\n",
    "* Write about the form of $\\Sigma$ matrix when $m>n$, $m<n$ and $m==n$\n",
    "* Briefly discuss SVD terminology and conventions"
   ]
  },
  {
   "cell_type": "code",
   "execution_count": null,
   "id": "6d77b778-48d4-4985-8b2d-65f64299102e",
   "metadata": {},
   "outputs": [],
   "source": []
  }
 ],
 "metadata": {
  "kernelspec": {
   "display_name": "mla",
   "language": "python",
   "name": "mla"
  },
  "language_info": {
   "codemirror_mode": {
    "name": "ipython",
    "version": 3
   },
   "file_extension": ".py",
   "mimetype": "text/x-python",
   "name": "python",
   "nbconvert_exporter": "python",
   "pygments_lexer": "ipython3",
   "version": "3.8.10"
  }
 },
 "nbformat": 4,
 "nbformat_minor": 5
}
