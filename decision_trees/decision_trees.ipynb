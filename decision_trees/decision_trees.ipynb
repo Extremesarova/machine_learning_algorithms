{
 "cells": [
  {
   "cell_type": "markdown",
   "id": "13afcc03-c80c-43b6-a5db-1ecbb12fc02e",
   "metadata": {},
   "source": [
    "### 0. Questions"
   ]
  },
  {
   "cell_type": "markdown",
   "id": "f4958179-5a26-4a39-9fb3-2b22c6351722",
   "metadata": {},
   "source": [
    " - What are Decision Trees?"
   ]
  },
  {
   "cell_type": "code",
   "execution_count": null,
   "id": "303bc50a-bc81-4f6a-943f-ffa091cc29c5",
   "metadata": {},
   "outputs": [],
   "source": []
  },
  {
   "cell_type": "markdown",
   "id": "3b66c0f4-812f-4ea1-9c85-b00ba4465ae2",
   "metadata": {
    "tags": []
   },
   "source": [
    "### 1. Import packages"
   ]
  },
  {
   "cell_type": "markdown",
   "id": "89a1921a-f9e0-4101-bf72-5bb3a5fec7ee",
   "metadata": {
    "pycharm": {
     "name": "#%% md\n"
    }
   },
   "source": [
    "First, let's import needed modules and set random seed (we'll use it if needed)."
   ]
  },
  {
   "cell_type": "code",
   "execution_count": 36,
   "id": "f3d4baa0-de1d-4bf2-8c5d-381955cefcd2",
   "metadata": {
    "tags": []
   },
   "outputs": [],
   "source": [
    "import os\n",
    "import sys\n",
    "import numpy as np\n",
    "from matplotlib import pyplot as plt\n",
    "from sklearn import datasets\n",
    "from sklearn.model_selection import train_test_split\n",
    "from sklearn.metrics import f1_score\n",
    "from sklearn.tree import DecisionTreeClassifier\n",
    "from sklearn.model_selection import train_test_split\n",
    "\n",
    "SEED = 42"
   ]
  },
  {
   "cell_type": "markdown",
   "id": "5868b817-3e97-4675-85e4-6ac2be1d56fb",
   "metadata": {},
   "source": [
    "### 2. Data preparation"
   ]
  },
  {
   "cell_type": "markdown",
   "id": "3f2b9c60-c537-4f42-a704-dd94f31a8cd5",
   "metadata": {},
   "source": [
    "#### 2.1 Loading Iris dataset"
   ]
  },
  {
   "cell_type": "markdown",
   "id": "a66026ea-d701-4331-9007-445b3cfa9f1f",
   "metadata": {},
   "source": [
    "I'm going to use only first two features for now for better visualization and analysis"
   ]
  },
  {
   "cell_type": "code",
   "execution_count": 68,
   "id": "bc8a07a9-819a-4249-82a9-dcd5cb0c87b5",
   "metadata": {},
   "outputs": [],
   "source": [
    "X, y = datasets.load_iris(return_X_y=True)"
   ]
  },
  {
   "cell_type": "code",
   "execution_count": 89,
   "id": "b3feb09a-082d-4c51-9fa7-05cce3fdf481",
   "metadata": {
    "collapsed": false,
    "jupyter": {
     "outputs_hidden": false
    },
    "pycharm": {
     "name": "#%%\n"
    }
   },
   "outputs": [],
   "source": [
    "X, y = datasets.load_iris(return_X_y=True)\n",
    "X = X[:, 1::2]"
   ]
  },
  {
   "cell_type": "code",
   "execution_count": 90,
   "id": "6ecdfda7-eee7-4ce4-9465-0d39df37bc7f",
   "metadata": {},
   "outputs": [
    {
     "name": "stdout",
     "output_type": "stream",
     "text": [
      "All features: sepal length (cm), sepal width (cm), petal length (cm), petal width (cm)\n",
      "Selected features: sepal width (cm), petal width (cm)\n"
     ]
    }
   ],
   "source": [
    "feature_names = datasets.load_iris().feature_names\n",
    "print(f\"All features: {', '.join(feature_names)}\")\n",
    "feature_names = feature_names[1::2]\n",
    "print(f\"Selected features: {', '.join(feature_names)}\")"
   ]
  },
  {
   "cell_type": "markdown",
   "id": "11102c4d-3fad-42cd-879c-28462b836cb7",
   "metadata": {},
   "source": [
    "#### 2.2 Splitting the data"
   ]
  },
  {
   "cell_type": "code",
   "execution_count": 91,
   "id": "8ab991af-b242-4aa5-9cdc-e45229c6c281",
   "metadata": {},
   "outputs": [],
   "source": [
    "X_train, X_test, y_train, y_test = train_test_split(X, y, test_size=0.3, random_state=SEED)"
   ]
  },
  {
   "cell_type": "markdown",
   "id": "77bf8d98-06d1-4917-9917-61db605b8506",
   "metadata": {
    "tags": []
   },
   "source": [
    "### 3. Predictive modelling"
   ]
  },
  {
   "cell_type": "markdown",
   "id": "0f3ed84a-42ed-4d1c-aeb8-1260665ad253",
   "metadata": {},
   "source": [
    "#### 3.1 Sklearn's implementation of Decision Trees Classifier"
   ]
  },
  {
   "cell_type": "code",
   "execution_count": 92,
   "id": "f0294720-f1f8-4b2b-a1b0-251a54d8b3f8",
   "metadata": {
    "collapsed": false,
    "jupyter": {
     "outputs_hidden": false
    },
    "pycharm": {
     "name": "#%%\n"
    }
   },
   "outputs": [
    {
     "name": "stdout",
     "output_type": "stream",
     "text": [
      "F1 is equal to 1.0\n"
     ]
    }
   ],
   "source": [
    "dt = DecisionTreeClassifier(max_depth=3, random_state=SEED)\n",
    "dt.fit(X_train, y_train)\n",
    "pred_sklearn = dt.predict(X_test)\n",
    "\n",
    "f1_sklearn = f1_score(y_true=y_test, y_pred=pred_sklearn, average='weighted').round(2)\n",
    "print(f'F1 is equal to {f1_sklearn}')"
   ]
  },
  {
   "cell_type": "markdown",
   "id": "6d11e8e4-fa75-41fb-b330-8e8dd1ade98e",
   "metadata": {},
   "source": [
    "#### 3.2 Vizualization of separation boundary"
   ]
  },
  {
   "cell_type": "code",
   "execution_count": 93,
   "id": "d3d7c2ec-a4f2-4a68-a336-ec1fda01ba6f",
   "metadata": {},
   "outputs": [],
   "source": [
    "# Let’s write an auxiliary function that will return grid for further visualization.\n",
    "def get_grid(data):\n",
    "    x_min, x_max = data[:, 0].min() - 1, data[:, 0].max() + 1\n",
    "    y_min, y_max = data[:, 1].min() - 1, data[:, 1].max() + 1\n",
    "    return np.meshgrid(np.arange(x_min, x_max, 0.01), np.arange(y_min, y_max, 0.01))"
   ]
  },
  {
   "cell_type": "code",
   "execution_count": 94,
   "id": "42b5ddba-41c8-4028-9870-a1daced5a445",
   "metadata": {},
   "outputs": [
    {
     "data": {
      "text/plain": [
       "<matplotlib.collections.PathCollection at 0x1aaaf505190>"
      ]
     },
     "execution_count": 94,
     "metadata": {},
     "output_type": "execute_result"
    },
    {
     "data": {
      "image/png": "[encoded data removed]",
      "text/plain": [
       "<Figure size 432x288 with 1 Axes>"
      ]
     },
     "metadata": {
      "needs_background": "light"
     },
     "output_type": "display_data"
    }
   ],
   "source": [
    "# some code to depict separating surface\n",
    "xx, yy = get_grid(X_train)\n",
    "predicted = dt.predict(np.c_[xx.ravel(), yy.ravel()]).reshape(xx.shape)\n",
    "plt.pcolormesh(xx, yy, predicted, cmap=\"autumn\", shading='auto')\n",
    "plt.scatter(\n",
    "    X_train[:, 0],\n",
    "    X_train[:, 1],\n",
    "    c=y_train,\n",
    "    s=100,\n",
    "    cmap=\"autumn\",\n",
    "    edgecolors=\"black\",\n",
    "    linewidth=1.5\n",
    ")"
   ]
  },
  {
   "cell_type": "code",
   "execution_count": 95,
   "id": "0fa3891b-1f5c-4829-a00d-d2aa56386df5",
   "metadata": {},
   "outputs": [],
   "source": [
    "import pydotplus  # pip install pydotplus\n",
    "from sklearn.tree import export_graphviz\n",
    "\n",
    "def tree_graph_to_png(tree, feature_names, png_file_to_save):\n",
    "    \"\"\"\n",
    "    This requires GraphViz to be installed.  \n",
    "    \"\"\"\n",
    "    \n",
    "    tree_str = export_graphviz(\n",
    "        tree, feature_names=feature_names, filled=True, out_file=None\n",
    "    )\n",
    "    graph = pydotplus.graph_from_dot_data(tree_str)\n",
    "    graph.write_png(png_file_to_save)"
   ]
  },
  {
   "cell_type": "code",
   "execution_count": 96,
   "id": "f2e40ecb-3492-4d7f-9341-1ccc5ee5200f",
   "metadata": {},
   "outputs": [],
   "source": [
    "tree_graph_to_png(\n",
    "    tree=dt,\n",
    "    feature_names=feature_names,\n",
    "    png_file_to_save=\"img/decision_tree1.png\",\n",
    ")"
   ]
  },
  {
   "cell_type": "markdown",
   "id": "00667765-b4a5-4335-a7ed-cc73d75f787e",
   "metadata": {},
   "source": [
    "![Decision Tree for Iris dataset](img/decision_tree1.png)"
   ]
  },
  {
   "cell_type": "markdown",
   "id": "a2e25a86-ebe2-46d6-a63d-83d5f7d4f776",
   "metadata": {},
   "source": [
    "### TODO: \n",
    " - Replace Iris dataset with synthetic dataset"
   ]
  },
  {
   "cell_type": "code",
   "execution_count": null,
   "id": "5270f9ca-b6c5-40ba-ad7d-ffcb75cc2a47",
   "metadata": {},
   "outputs": [],
   "source": []
  }
 ],
 "metadata": {
  "kernelspec": {
   "display_name": "mla",
   "language": "python",
   "name": "mla"
  },
  "language_info": {
   "codemirror_mode": {
    "name": "ipython",
    "version": 3
   },
   "file_extension": ".py",
   "mimetype": "text/x-python",
   "name": "python",
   "nbconvert_exporter": "python",
   "pygments_lexer": "ipython3",
   "version": "3.8.10"
  }
 },
 "nbformat": 4,
 "nbformat_minor": 5
}
