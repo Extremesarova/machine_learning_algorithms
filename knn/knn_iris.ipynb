{
 "cells": [
  {
   "cell_type": "markdown",
   "metadata": {
    "tags": []
   },
   "source": [
    "### 1. Import packages"
   ]
  },
  {
   "cell_type": "code",
   "execution_count": 1,
   "metadata": {},
   "outputs": [],
   "source": [
    "import os\n",
    "import sys\n",
    "\n",
    "module_path = os.path.abspath(os.path.join(\"..\"))\n",
    "if module_path not in sys.path:\n",
    "    sys.path.append(module_path)"
   ]
  },
  {
   "cell_type": "markdown",
   "metadata": {
    "pycharm": {
     "name": "#%% md\n"
    }
   },
   "source": [
    "Importing required modules and setting random seed"
   ]
  },
  {
   "cell_type": "code",
   "execution_count": 2,
   "metadata": {
    "tags": []
   },
   "outputs": [],
   "source": [
    "from k_nearest_neighbors_classifier import KNearestNeighborsClassifier\n",
    "from sklearn import datasets\n",
    "from sklearn import model_selection as ms\n",
    "from sklearn.metrics import f1_score\n",
    "from sklearn.neighbors import KNeighborsClassifier\n",
    "\n",
    "from utils.scaler import StandardScaler\n",
    "\n",
    "SEED = 42"
   ]
  },
  {
   "cell_type": "markdown",
   "metadata": {},
   "source": [
    "### 2. Data preparation"
   ]
  },
  {
   "cell_type": "markdown",
   "metadata": {},
   "source": [
    "#### 2.1 Loading Iris dataset"
   ]
  },
  {
   "cell_type": "markdown",
   "metadata": {},
   "source": [
    "I'm going to use only first two features for now"
   ]
  },
  {
   "cell_type": "code",
   "execution_count": 3,
   "metadata": {
    "collapsed": false,
    "jupyter": {
     "outputs_hidden": false
    },
    "pycharm": {
     "name": "#%%\n"
    }
   },
   "outputs": [],
   "source": [
    "X, y = datasets.load_iris(return_X_y=True)\n",
    "X = X[:, :2]"
   ]
  },
  {
   "cell_type": "markdown",
   "metadata": {},
   "source": [
    "#### 2.2 Splitting the data"
   ]
  },
  {
   "cell_type": "code",
   "execution_count": 4,
   "metadata": {},
   "outputs": [],
   "source": [
    "X_train, X_test, y_train, y_test = ms.train_test_split(X, y, train_size=0.8, random_state=SEED)"
   ]
  },
  {
   "cell_type": "markdown",
   "metadata": {
    "tags": []
   },
   "source": [
    "#### 2.3 Scaling the data"
   ]
  },
  {
   "cell_type": "code",
   "execution_count": 5,
   "metadata": {
    "collapsed": false,
    "jupyter": {
     "outputs_hidden": false
    },
    "pycharm": {
     "name": "#%%\n"
    }
   },
   "outputs": [],
   "source": [
    "scaler = StandardScaler()\n",
    "\n",
    "X_train_scaled = scaler.fit_transform(X_train)\n",
    "X_test_scaled = scaler.transform(X_test)"
   ]
  },
  {
   "cell_type": "markdown",
   "metadata": {
    "tags": []
   },
   "source": [
    "### 3. Predictive modelling"
   ]
  },
  {
   "cell_type": "markdown",
   "metadata": {},
   "source": [
    "#### 3.1 My implementation of kNN"
   ]
  },
  {
   "cell_type": "code",
   "execution_count": 6,
   "metadata": {
    "collapsed": false,
    "jupyter": {
     "outputs_hidden": false
    },
    "pycharm": {
     "name": "#%%\n"
    }
   },
   "outputs": [
    {
     "name": "stdout",
     "output_type": "stream",
     "text": [
      "F1 is equal to 0.83\n"
     ]
    }
   ],
   "source": [
    "knn = KNearestNeighborsClassifier(n_neighbors=5, metric=\"minkowski\", p=4)\n",
    "\n",
    "knn.fit(X_train_scaled, y_train)\n",
    "pred = knn.predict(X_test_scaled)\n",
    "\n",
    "f1 = f1_score(y_true=y_test, y_pred=pred, average=\"weighted\").round(2)\n",
    "print(f\"F1 is equal to {f1}\")"
   ]
  },
  {
   "cell_type": "markdown",
   "metadata": {},
   "source": [
    "#### 3.2 Sklearn's implementation of kNN"
   ]
  },
  {
   "cell_type": "code",
   "execution_count": 7,
   "metadata": {
    "collapsed": false,
    "jupyter": {
     "outputs_hidden": false
    },
    "pycharm": {
     "name": "#%%\n"
    }
   },
   "outputs": [
    {
     "name": "stdout",
     "output_type": "stream",
     "text": [
      "F1 is equal to 0.8\n"
     ]
    }
   ],
   "source": [
    "knn_sklearn = KNeighborsClassifier(n_neighbors=5, metric=\"minkowski\", p=4)\n",
    "knn_sklearn.fit(X_train_scaled, y_train)\n",
    "pred_sklearn = knn_sklearn.predict(X_test_scaled)\n",
    "\n",
    "f1_sklearn = f1_score(y_true=y_test, y_pred=pred_sklearn, average=\"weighted\").round(2)\n",
    "print(f\"F1 is equal to {f1_sklearn}\")"
   ]
  },
  {
   "cell_type": "markdown",
   "metadata": {},
   "source": [
    "### 4. Idea of kNN"
   ]
  },
  {
   "cell_type": "markdown",
   "metadata": {
    "pycharm": {
     "name": "#%% md\n"
    }
   },
   "source": [
    "The idea of kNN classifier is quite simple. Basic brute force implementation doesn't require any\n",
    "training and works when the inference happens.\n",
    "Let's describe it in a few steps:\n",
    "1. Standardization of dataset. \n",
    "Scaled data should have zero mean and unit variance. (Write about importance of standardization)\n",
    "2. For every example in test dataset: <br>\n",
    "2.1 Calculate distance between example and training dataset (Write about different metrics)<br>\n",
    "2.2 Sort the distances in increasing order <br>\n",
    "2.3 Find the first <code>k</code> closest items (from training dataset) and remember their labels <br>\n",
    "2.4 Use the labels to do the majority voting and find the most common class among the labels <br>\n",
    "2.5 Return the majority class as a prediction for input example <br>\n",
    "\n",
    "As we can see from the results, my brute force implementation of kNN classifier (with the same parameters) shows even better performance on a small, simple dataset as implementation from sklearn: F1 score = 0.83 (if I'm not mistaken somewhere). "
   ]
  },
  {
   "cell_type": "markdown",
   "metadata": {
    "pycharm": {
     "name": "#%% md\n"
    }
   },
   "source": [
    "### TODO:\n",
    "1. Investigate Nearest Neighbor Algorithms (`ball_tree`, `kd_tree`)\n",
    "2. Investigate Nearest Neighbors Regression\n",
    "3. Investigate effect of data standardization of the knn (possibly on k-means and linear models too)\n",
    "4. Plot dependency between `p` for `minkowski` distance, `n_neighbors` and F1 score for iris data\n",
    "5. Investigate ANN approaches (Annoy, N2, hnswlib, etc.)"
   ]
  },
  {
   "cell_type": "code",
   "execution_count": null,
   "metadata": {},
   "outputs": [],
   "source": []
  }
 ],
 "metadata": {
  "kernelspec": {
   "display_name": "mla",
   "language": "python",
   "name": "mla"
  },
  "language_info": {
   "codemirror_mode": {
    "name": "ipython",
    "version": 3
   },
   "file_extension": ".py",
   "mimetype": "text/x-python",
   "name": "python",
   "nbconvert_exporter": "python",
   "pygments_lexer": "ipython3",
   "version": "3.8.10"
  },
  "toc-showtags": false
 },
 "nbformat": 4,
 "nbformat_minor": 4
}
